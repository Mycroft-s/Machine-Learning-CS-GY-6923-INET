{
 "cells": [
  {
   "cell_type": "markdown",
   "metadata": {},
   "source": [
    "## Keras/Tensorflow Modelling Tutorial: MNIST Dataset"
   ]
  },
  {
   "cell_type": "markdown",
   "metadata": {},
   "source": [
    "This tutorial will demonstrate the general steps and setup for using Keras for deep learning. We will use the MNIST dataset for this demonstration. We will also go through the following:\n",
    "\n",
    "* Setting up environment with Keras with Tensorflow as the backend\n",
    "* Creation of training and testing sets from dataset\n",
    "* Building a convolutional neural network (CNN) model\n",
    "* Accuracy after training and testing the model\n",
    "* Depiction of error images\n",
    "\n",
    "This code is adapted from \"How to Develop a CNN for MNIST Handwritten Digit Classification\" from Machine Learning Mastery and \"Keras Tutorial: The Ultimate Beginner's Guide to Deep Learning in Python\" from Elite Data Science. The links are included below:\n",
    "* https://machinelearningmastery.com/how-to-develop-a-convolutional-neural-network-from-scratch-for-mnist-handwritten-digit-classification/\n",
    "\n",
    "* https://elitedatascience.com/keras-tutorial-deep-learning-in-python\n",
    "\n"
   ]
  },
  {
   "cell_type": "markdown",
   "metadata": {},
   "source": [
    "### Importing Libraries"
   ]
  },
  {
   "cell_type": "markdown",
   "metadata": {},
   "source": [
    "If the backend of Keras is not already Tensorflow, we can force it by adding os.environ['KERAS_BACKEND'] = 'tensorflow'. Likewise, if the dimension ordering is not set as Tensorflow, we can force it by adding set_image_dim_ordering('tf'). Otherwise, we will be working with the Theano backend. These lines do not need to be used if your environment is using Tensorflow as a backend by default.\n",
    "\n",
    "This will be important when reshaping our data and building the neural network."
   ]
  },
  {
   "cell_type": "code",
   "execution_count": 1,
   "metadata": {},
   "outputs": [
    {
     "name": "stderr",
     "output_type": "stream",
     "text": [
      "Using TensorFlow backend.\n"
     ]
    }
   ],
   "source": [
    "import warnings; warnings.simplefilter('ignore')\n",
    "\n",
    "import os\n",
    "os.environ['KERAS_BACKEND'] = 'tensorflow'\n",
    "\n",
    "from keras.backend import set_image_dim_ordering\n",
    "set_image_dim_ordering('tf')"
   ]
  },
  {
   "cell_type": "code",
   "execution_count": 2,
   "metadata": {
    "collapsed": true
   },
   "outputs": [],
   "source": [
    "import numpy as np\n",
    "from keras.datasets import mnist\n",
    "from matplotlib import pyplot as plt\n",
    "%matplotlib inline"
   ]
  },
  {
   "cell_type": "markdown",
   "metadata": {},
   "source": [
    "Here, we can import the various layers and models needed. More descriptions of the layers can be discovered in the Keras guide ( https://keras.io/layers/about-keras-layers/ )"
   ]
  },
  {
   "cell_type": "code",
   "execution_count": 3,
   "metadata": {
    "collapsed": true
   },
   "outputs": [],
   "source": [
    "from tensorflow.keras.models import Sequential\n",
    "from tensorflow.keras.layers import Dense, Dropout, Activation, Flatten\n",
    "from tensorflow.keras.layers import Convolution2D, MaxPooling2D\n",
    "from keras.utils import np_utils"
   ]
  },
  {
   "cell_type": "markdown",
   "metadata": {},
   "source": [
    "### Loading Data"
   ]
  },
  {
   "cell_type": "markdown",
   "metadata": {},
   "source": [
    "As expected, we should have a total of 70,000 samples of 28 by 28 digit images."
   ]
  },
  {
   "cell_type": "code",
   "execution_count": 4,
   "metadata": {
    "collapsed": true
   },
   "outputs": [],
   "source": [
    "(X_train_load, y_train_load), (X_test_load, y_test_load) = mnist.load_data()"
   ]
  },
  {
   "cell_type": "code",
   "execution_count": 7,
   "metadata": {},
   "outputs": [
    {
     "name": "stdout",
     "output_type": "stream",
     "text": [
      "(60000, 28, 28) (10000, 28, 28)\n"
     ]
    }
   ],
   "source": [
    "print(X_train_load.shape, X_test_load.shape)"
   ]
  },
  {
   "cell_type": "code",
   "execution_count": 8,
   "metadata": {},
   "outputs": [
    {
     "name": "stdout",
     "output_type": "stream",
     "text": [
      "(60000,) (10000,)\n"
     ]
    }
   ],
   "source": [
    "print(y_train_load.shape, y_test_load.shape)"
   ]
  },
  {
   "cell_type": "markdown",
   "metadata": {},
   "source": [
    "Let us show the first five elements from the training set of the data."
   ]
  },
  {
   "cell_type": "code",
   "execution_count": 9,
   "metadata": {},
   "outputs": [
    {
     "data": {
      "image/png": "[encoded data removed]",
      "text/plain": [
       "<matplotlib.figure.Figure at 0x1830ec3eb8>"
      ]
     },
     "metadata": {},
     "output_type": "display_data"
    }
   ],
   "source": [
    "plt.figure(figsize=(10,5))\n",
    "for i in range(0,5):\n",
    "    plt.subplot(1,5,i+1)\n",
    "    plt.imshow(X_train_load[i])"
   ]
  },
  {
   "cell_type": "code",
   "execution_count": 10,
   "metadata": {},
   "outputs": [
    {
     "name": "stdout",
     "output_type": "stream",
     "text": [
      "[5 0 4 1 9]\n"
     ]
    }
   ],
   "source": [
    "print(y_train_load[:5])"
   ]
  },
  {
   "cell_type": "markdown",
   "metadata": {},
   "source": [
    "### Reshaping Data"
   ]
  },
  {
   "cell_type": "markdown",
   "metadata": {},
   "source": [
    "Before building our neural network, let us reshape the data. This is because most convolutional neural networks are designed in a way so that they can only accept images of a fixed size. Note that in reshaping the data, the dimension ordering is different when using Tensorflow or Theano as a backend.\n",
    "\n",
    "* Tensorflow: 28, 28, 1 (the channel comes last)\n",
    "* Theano: 1, 28, 28 (the channel comes first)"
   ]
  },
  {
   "cell_type": "code",
   "execution_count": 11,
   "metadata": {},
   "outputs": [
    {
     "data": {
      "text/plain": [
       "(28, 28)"
      ]
     },
     "execution_count": 11,
     "metadata": {},
     "output_type": "execute_result"
    }
   ],
   "source": [
    "X_train_load[0].shape"
   ]
  },
  {
   "cell_type": "code",
   "execution_count": 12,
   "metadata": {
    "collapsed": true
   },
   "outputs": [],
   "source": [
    "X_train = X_train_load.reshape(X_train_load.shape[0], 28, 28, 1)\n",
    "X_test = X_test_load.reshape(X_test_load.shape[0],28, 28, 1)"
   ]
  },
  {
   "cell_type": "code",
   "execution_count": 13,
   "metadata": {},
   "outputs": [
    {
     "data": {
      "text/plain": [
       "(28, 28, 1)"
      ]
     },
     "execution_count": 13,
     "metadata": {},
     "output_type": "execute_result"
    }
   ],
   "source": [
    "X_train[0].shape"
   ]
  },
  {
   "cell_type": "markdown",
   "metadata": {},
   "source": [
    "### Normalizing Data"
   ]
  },
  {
   "cell_type": "markdown",
   "metadata": {},
   "source": [
    "Normalizing data is especially important in this case because data has a wide range from 0 to 255. This ensures that data differences are maintained over a smaller range which yields higher accuracy after training. For a demonstration of the importance of normalization please see the following link (https://medium.com/@urvashilluniya/why-data-normalization-is-necessary-for-machine-learning-models-681b65a05029)."
   ]
  },
  {
   "cell_type": "code",
   "execution_count": 14,
   "metadata": {
    "collapsed": true
   },
   "outputs": [],
   "source": [
    "X_train = X_train.astype('float32')\n",
    "X_test = X_test.astype('float32')\n",
    "X_train /= 255\n",
    "X_test /= 255"
   ]
  },
  {
   "cell_type": "markdown",
   "metadata": {},
   "source": [
    "### One Hot Encoding"
   ]
  },
  {
   "cell_type": "markdown",
   "metadata": {},
   "source": [
    "The targets can be one hot encoded with the builtin to_categorical function. We simply pass in the target values and the number of classes in the classification problem."
   ]
  },
  {
   "cell_type": "code",
   "execution_count": 15,
   "metadata": {
    "collapsed": true
   },
   "outputs": [],
   "source": [
    "Y_train = np_utils.to_categorical(y_train_load, 10)\n",
    "Y_test = np_utils.to_categorical(y_test_load, 10)"
   ]
  },
  {
   "cell_type": "markdown",
   "metadata": {},
   "source": [
    "### Building Network Model"
   ]
  },
  {
   "cell_type": "markdown",
   "metadata": {},
   "source": [
    "Layers can be stacked upon each other in a sequential model. In this case, we are building a model based off the one described in \"Keras Tutorial: The Ultimate Beginner's Guide to Deep Learning in Python\". "
   ]
  },
  {
   "cell_type": "code",
   "execution_count": 16,
   "metadata": {
    "collapsed": true,
    "scrolled": false
   },
   "outputs": [],
   "source": [
    "model = Sequential()"
   ]
  },
  {
   "cell_type": "markdown",
   "metadata": {},
   "source": [
    "Convolutional layer parameters described here:\n",
    "* Number of filters: 32\n",
    "* Filter size or kernel size: 3 x 3\n",
    "* Activation Function: ReLU\n",
    "* Input shape: 28, 28, 1 (This is the shape of the reshaped data)\n",
    "* Dropout: Drop 0.25 of the input units randomly\n",
    "* Dense: Another layer with 128 units and another with 10 units\n",
    "\n",
    "More information regarding these core layers can be described here (https://keras.io/layers/core/)"
   ]
  },
  {
   "cell_type": "code",
   "execution_count": 17,
   "metadata": {
    "collapsed": true
   },
   "outputs": [],
   "source": [
    "model.add(Convolution2D(32, (3, 3), activation='relu', input_shape=(28,28,1)))\n",
    "model.add(Convolution2D(32, (3, 3), activation='relu'))\n",
    "model.add(MaxPooling2D(pool_size=(2,2)))\n",
    "model.add(Dropout(0.25))"
   ]
  },
  {
   "cell_type": "code",
   "execution_count": 18,
   "metadata": {
    "collapsed": true
   },
   "outputs": [],
   "source": [
    "model.add(Flatten())\n",
    "model.add(Dense(128, activation='relu'))\n",
    "model.add(Dropout(0.5))\n",
    "model.add(Dense(10, activation='softmax'))"
   ]
  },
  {
   "cell_type": "code",
   "execution_count": 19,
   "metadata": {},
   "outputs": [
    {
     "name": "stdout",
     "output_type": "stream",
     "text": [
      "Model: \"sequential\"\n",
      "_________________________________________________________________\n",
      "Layer (type)                 Output Shape              Param #   \n",
      "=================================================================\n",
      "conv2d (Conv2D)              (None, 26, 26, 32)        320       \n",
      "_________________________________________________________________\n",
      "conv2d_1 (Conv2D)            (None, 24, 24, 32)        9248      \n",
      "_________________________________________________________________\n",
      "max_pooling2d (MaxPooling2D) (None, 12, 12, 32)        0         \n",
      "_________________________________________________________________\n",
      "dropout (Dropout)            (None, 12, 12, 32)        0         \n",
      "_________________________________________________________________\n",
      "flatten (Flatten)            (None, 4608)              0         \n",
      "_________________________________________________________________\n",
      "dense (Dense)                (None, 128)               589952    \n",
      "_________________________________________________________________\n",
      "dropout_1 (Dropout)          (None, 128)               0         \n",
      "_________________________________________________________________\n",
      "dense_1 (Dense)              (None, 10)                1290      \n",
      "=================================================================\n",
      "Total params: 600,810\n",
      "Trainable params: 600,810\n",
      "Non-trainable params: 0\n",
      "_________________________________________________________________\n"
     ]
    }
   ],
   "source": [
    "model.summary()"
   ]
  },
  {
   "cell_type": "markdown",
   "metadata": {},
   "source": [
    "During compilation of the model, we can choose the loss function, the optimizer, and the metrics.\n",
    "Many more choices are availiable and can be described in the Keras documentation.\n",
    "* Loss: https://keras.io/losses/\n",
    "* Optimizer: https://keras.io/optimizers/\n",
    "* Metrics: https://keras.io/metrics/\n"
   ]
  },
  {
   "cell_type": "code",
   "execution_count": 20,
   "metadata": {
    "collapsed": true
   },
   "outputs": [],
   "source": [
    "model.compile(loss='categorical_crossentropy',\n",
    "              optimizer='adam',\n",
    "              metrics=['accuracy'])"
   ]
  },
  {
   "cell_type": "markdown",
   "metadata": {},
   "source": [
    "### Training Model"
   ]
  },
  {
   "cell_type": "markdown",
   "metadata": {},
   "source": [
    "Let us train the model for 10 epochs to see the results. By setting 'verbose' to 1, we are able to see the output after each training. This will take about 15 minutes without GPU."
   ]
  },
  {
   "cell_type": "code",
   "execution_count": 21,
   "metadata": {},
   "outputs": [
    {
     "name": "stderr",
     "output_type": "stream",
     "text": [
      "WARNING: Logging before flag parsing goes to stderr.\n",
      "W0801 00:16:26.712519 140735736558528 deprecation.py:323] From /Users/xiaosg/anaconda3/lib/python3.6/site-packages/tensorflow/python/ops/math_grad.py:1250: add_dispatch_support.<locals>.wrapper (from tensorflow.python.ops.array_ops) is deprecated and will be removed in a future version.\n",
      "Instructions for updating:\n",
      "Use tf.where in 2.0, which has the same broadcast rule as np.where\n"
     ]
    },
    {
     "name": "stdout",
     "output_type": "stream",
     "text": [
      "Train on 60000 samples\n",
      "Epoch 1/10\n",
      "60000/60000 [==============================] - 73s 1ms/sample - loss: 0.2174 - accuracy: 0.9330\n",
      "Epoch 2/10\n",
      "60000/60000 [==============================] - 72s 1ms/sample - loss: 0.0876 - accuracy: 0.9740\n",
      "Epoch 3/10\n",
      "60000/60000 [==============================] - 74s 1ms/sample - loss: 0.0694 - accuracy: 0.9796\n",
      "Epoch 4/10\n",
      "60000/60000 [==============================] - 76s 1ms/sample - loss: 0.0555 - accuracy: 0.9834\n",
      "Epoch 5/10\n",
      "60000/60000 [==============================] - 69s 1ms/sample - loss: 0.0511 - accuracy: 0.9841\n",
      "Epoch 6/10\n",
      "60000/60000 [==============================] - 71s 1ms/sample - loss: 0.0435 - accuracy: 0.9863\n",
      "Epoch 7/10\n",
      "60000/60000 [==============================] - 78s 1ms/sample - loss: 0.0354 - accuracy: 0.9890\n",
      "Epoch 8/10\n",
      "60000/60000 [==============================] - 75s 1ms/sample - loss: 0.0347 - accuracy: 0.9894\n",
      "Epoch 9/10\n",
      "60000/60000 [==============================] - 75s 1ms/sample - loss: 0.0325 - accuracy: 0.9900\n",
      "Epoch 10/10\n",
      "60000/60000 [==============================] - 70s 1ms/sample - loss: 0.0285 - accuracy: 0.9905\n"
     ]
    },
    {
     "data": {
      "text/plain": [
       "<tensorflow.python.keras.callbacks.History at 0x18421f7f60>"
      ]
     },
     "execution_count": 21,
     "metadata": {},
     "output_type": "execute_result"
    }
   ],
   "source": [
    "model.fit(X_train, Y_train, \n",
    "          batch_size=32, \n",
    "          epochs=10, \n",
    "          verbose=1)"
   ]
  },
  {
   "cell_type": "code",
   "execution_count": 22,
   "metadata": {},
   "outputs": [
    {
     "name": "stdout",
     "output_type": "stream",
     "text": [
      "10000/10000 [==============================] - 4s 376us/sample - loss: 0.0272 - accuracy: 0.9912\n"
     ]
    }
   ],
   "source": [
    "score = model.evaluate(X_test, Y_test, verbose=1)"
   ]
  },
  {
   "cell_type": "code",
   "execution_count": 23,
   "metadata": {},
   "outputs": [
    {
     "data": {
      "text/plain": [
       "0.9912"
      ]
     },
     "execution_count": 23,
     "metadata": {},
     "output_type": "execute_result"
    }
   ],
   "source": [
    "score[1]"
   ]
  },
  {
   "cell_type": "markdown",
   "metadata": {},
   "source": [
    "### Testing Model"
   ]
  },
  {
   "cell_type": "markdown",
   "metadata": {},
   "source": [
    "After training, the model may be run on testing data to generate the predictions for unlabelled data."
   ]
  },
  {
   "cell_type": "code",
   "execution_count": 24,
   "metadata": {
    "collapsed": true
   },
   "outputs": [],
   "source": [
    "y_hat = model.predict(X_test)"
   ]
  },
  {
   "cell_type": "markdown",
   "metadata": {},
   "source": [
    "### Error Images"
   ]
  },
  {
   "cell_type": "markdown",
   "metadata": {},
   "source": [
    "We get a very high accuracy (over 99%) after training and testing. However, let us show some of the misclassified images. Although this is a very robust model, there are still some limitations for differentiating handwritten digits for machines."
   ]
  },
  {
   "cell_type": "code",
   "execution_count": 25,
   "metadata": {},
   "outputs": [
    {
     "data": {
      "image/png": "[encoded data removed]",
      "text/plain": [
       "<matplotlib.figure.Figure at 0x10a76bc88>"
      ]
     },
     "metadata": {},
     "output_type": "display_data"
    }
   ],
   "source": [
    "plt.figure(figsize=(10,6))\n",
    "j=1\n",
    "\n",
    "for i in range(len(y_hat)):\n",
    "    \n",
    "    threshold1 = y_hat[i] < 0.1\n",
    "    y_hat[i][threshold1] = 0\n",
    "    threshold2 = y_hat[i] > 0.9\n",
    "    y_hat[i][threshold2] = 1\n",
    "    y_hat[i].astype(int)\n",
    "    \n",
    "    estimated = np.argwhere(y_hat[i]==1)\n",
    "    true = int(np.argwhere(Y_test[i]==1))\n",
    "   \n",
    "    \n",
    "    if j<6 and estimated != true:\n",
    "        \n",
    "        plt.subplot(1,6,j+1)\n",
    "        title = 'true={0:d} est={1:d}'.format(true, int(estimated))\n",
    "        plt.imshow(X_test_load[i])\n",
    "        plt.title(title)\n",
    "        j=j+1\n"
   ]
  },
  {
   "cell_type": "code",
   "execution_count": null,
   "metadata": {
    "collapsed": true
   },
   "outputs": [],
   "source": []
  }
 ],
 "metadata": {
  "kernelspec": {
   "display_name": "Python 3",
   "language": "python",
   "name": "python3"
  },
  "language_info": {
   "codemirror_mode": {
    "name": "ipython",
    "version": 3
   },
   "file_extension": ".py",
   "mimetype": "text/x-python",
   "name": "python",
   "nbconvert_exporter": "python",
   "pygments_lexer": "ipython3",
   "version": "3.6.6"
  }
 },
 "nbformat": 4,
 "nbformat_minor": 2
}
