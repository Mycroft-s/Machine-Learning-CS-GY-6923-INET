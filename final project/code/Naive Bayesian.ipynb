{
 "cells": [
  {
   "cell_type": "markdown",
   "metadata": {},
   "source": [
    "# Naive Bayesian"
   ]
  },
  {
   "cell_type": "markdown",
   "metadata": {},
   "source": [
    "## Import Library"
   ]
  },
  {
   "cell_type": "code",
   "execution_count": 1,
   "metadata": {},
   "outputs": [],
   "source": [
    "import pandas as pd\n",
    "from sklearn.preprocessing import OneHotEncoder, StandardScaler\n",
    "from imblearn.under_sampling import RandomUnderSampler\n",
    "from sklearn.model_selection import train_test_split\n",
    "from sklearn.naive_bayes import GaussianNB\n",
    "from sklearn.metrics import accuracy_score, classification_report, confusion_matrix, average_precision_score"
   ]
  },
  {
   "cell_type": "markdown",
   "metadata": {},
   "source": [
    "## Load Dataset"
   ]
  },
  {
   "cell_type": "code",
   "execution_count": 2,
   "metadata": {},
   "outputs": [
    {
     "name": "stdout",
     "output_type": "stream",
     "text": [
      "rows of original dataset: 5110\n",
      "      id  gender   age  hypertension  heart_disease ever_married  \\\n",
      "0   9046    Male  67.0             0              1          Yes   \n",
      "1  51676  Female  61.0             0              0          Yes   \n",
      "2  31112    Male  80.0             0              1          Yes   \n",
      "3  60182  Female  49.0             0              0          Yes   \n",
      "4   1665  Female  79.0             1              0          Yes   \n",
      "\n",
      "       work_type Residence_type  avg_glucose_level   bmi   smoking_status  \\\n",
      "0        Private          Urban             228.69  36.6  formerly smoked   \n",
      "1  Self-employed          Rural             202.21   NaN     never smoked   \n",
      "2        Private          Rural             105.92  32.5     never smoked   \n",
      "3        Private          Urban             171.23  34.4           smokes   \n",
      "4  Self-employed          Rural             174.12  24.0     never smoked   \n",
      "\n",
      "   stroke  \n",
      "0       1  \n",
      "1       1  \n",
      "2       1  \n",
      "3       1  \n",
      "4       1  \n"
     ]
    }
   ],
   "source": [
    "df = pd.read_csv(\"healthcare-dataset-stroke-data.csv\", header=0)\n",
    "print(\"rows of original dataset:\", len(df))\n",
    "print(df.head())"
   ]
  },
  {
   "cell_type": "markdown",
   "metadata": {},
   "source": [
    "## Preprocessing"
   ]
  },
  {
   "cell_type": "code",
   "execution_count": 3,
   "metadata": {},
   "outputs": [
    {
     "name": "stdout",
     "output_type": "stream",
     "text": [
      "Rows after dropping missing values: 4909\n",
      "<class 'pandas.core.frame.DataFrame'>\n",
      "Int64Index: 4909 entries, 0 to 5109\n",
      "Data columns (total 11 columns):\n",
      " #   Column             Non-Null Count  Dtype  \n",
      "---  ------             --------------  -----  \n",
      " 0   gender             4909 non-null   object \n",
      " 1   age                4909 non-null   float64\n",
      " 2   hypertension       4909 non-null   int64  \n",
      " 3   heart_disease      4909 non-null   int64  \n",
      " 4   ever_married       4909 non-null   object \n",
      " 5   work_type          4909 non-null   object \n",
      " 6   Residence_type     4909 non-null   object \n",
      " 7   avg_glucose_level  4909 non-null   float64\n",
      " 8   bmi                4909 non-null   float64\n",
      " 9   smoking_status     4909 non-null   object \n",
      " 10  stroke             4909 non-null   int64  \n",
      "dtypes: float64(3), int64(3), object(5)\n",
      "memory usage: 460.2+ KB\n",
      "None\n"
     ]
    }
   ],
   "source": [
    "# data cleaning\n",
    "df = df.dropna()\n",
    "df.drop(['id'], axis = 1, inplace = True)\n",
    "print(\"Rows after dropping missing values:\", len(df))\n",
    "print(df.info())"
   ]
  },
  {
   "cell_type": "code",
   "execution_count": 4,
   "metadata": {},
   "outputs": [
    {
     "name": "stdout",
     "output_type": "stream",
     "text": [
      "Number of stroke: 209, number of non-stroke: 4700\n",
      "   gender_Female  gender_Male  gender_Other  ever_married_No  \\\n",
      "0            0.0          1.0           0.0              0.0   \n",
      "1            0.0          1.0           0.0              0.0   \n",
      "2            1.0          0.0           0.0              0.0   \n",
      "3            1.0          0.0           0.0              0.0   \n",
      "4            0.0          1.0           0.0              0.0   \n",
      "\n",
      "   ever_married_Yes  work_type_Govt_job  work_type_Never_worked  \\\n",
      "0               1.0                 0.0                     0.0   \n",
      "1               1.0                 0.0                     0.0   \n",
      "2               1.0                 0.0                     0.0   \n",
      "3               1.0                 0.0                     0.0   \n",
      "4               1.0                 0.0                     0.0   \n",
      "\n",
      "   work_type_Private  work_type_Self-employed  work_type_children  ...  \\\n",
      "0                1.0                      0.0                 0.0  ...   \n",
      "1                1.0                      0.0                 0.0  ...   \n",
      "2                1.0                      0.0                 0.0  ...   \n",
      "3                0.0                      1.0                 0.0  ...   \n",
      "4                1.0                      0.0                 0.0  ...   \n",
      "\n",
      "   smoking_status_Unknown  smoking_status_formerly smoked  \\\n",
      "0                     0.0                             1.0   \n",
      "1                     0.0                             0.0   \n",
      "2                     0.0                             0.0   \n",
      "3                     0.0                             0.0   \n",
      "4                     0.0                             1.0   \n",
      "\n",
      "   smoking_status_never smoked  smoking_status_smokes   age  hypertension  \\\n",
      "0                          0.0                    0.0  67.0             0   \n",
      "1                          1.0                    0.0  80.0             0   \n",
      "2                          0.0                    1.0  49.0             0   \n",
      "3                          1.0                    0.0  79.0             1   \n",
      "4                          0.0                    0.0  81.0             0   \n",
      "\n",
      "   heart_disease  avg_glucose_level   bmi  stroke  \n",
      "0              1             228.69  36.6       1  \n",
      "1              1             105.92  32.5       1  \n",
      "2              0             171.23  34.4       1  \n",
      "3              0             174.12  24.0       1  \n",
      "4              0             186.21  29.0       1  \n",
      "\n",
      "[5 rows x 22 columns]\n"
     ]
    }
   ],
   "source": [
    "# Find category feature\n",
    "categories = []\n",
    "for col in df.columns:\n",
    "  if df[col].dtype == 'object':\n",
    "    categories.append(col)\n",
    "\n",
    "# One-hot encode categorical features\n",
    "encoder = OneHotEncoder()\n",
    "df_encoded = encoder.fit_transform(df[categories])\n",
    "\n",
    "# Convert sparse matrix to a DataFrame and reset the index\n",
    "df_encoded = pd.DataFrame(df_encoded.toarray(), columns=encoder.get_feature_names_out())\n",
    "df_encoded.reset_index(drop=True, inplace=True)\n",
    "\n",
    "# Drop the original categorical columns from df_abnormal\n",
    "df_dropped = df.drop(columns=categories).reset_index(drop=True)\n",
    "\n",
    "# Combine df_encoded (one-hot encoded) and df_dropped (the rest of the columns)\n",
    "df_filtered = pd.concat([df_encoded, df_dropped], axis=1)\n",
    "\n",
    "# Count number of dos and non-dos attacks\n",
    "stroke_num = (df_filtered['stroke'] == 1).sum()\n",
    "nonstroke_num = (df_filtered['stroke'] == 0).sum()\n",
    "\n",
    "# Display the filtered dataframe\n",
    "print(f\"Number of stroke: {stroke_num}, number of non-stroke: {nonstroke_num}\")\n",
    "print(df_filtered.head())"
   ]
  },
  {
   "cell_type": "markdown",
   "metadata": {},
   "source": [
    "## Scale & Resample data"
   ]
  },
  {
   "cell_type": "code",
   "execution_count": 5,
   "metadata": {},
   "outputs": [
    {
     "name": "stdout",
     "output_type": "stream",
     "text": [
      "Rows after resampled data: 418\n",
      "Number of stroke: 209, number of non-stroke attacks: 209\n"
     ]
    }
   ],
   "source": [
    "# Split the DataFrame into features (X) and target (y)\n",
    "X = df_filtered.iloc[:, :-1]  # All columns except the last one (features)\n",
    "y = df_filtered['stroke']\n",
    "\n",
    "# Scale the dataset\n",
    "scaler = StandardScaler()\n",
    "X_scaled = scaler.fit_transform(df_filtered)\n",
    "\n",
    "# Set up the resampling strategy\n",
    "sampling_strategy = {label: int(min(stroke_num,nonstroke_num)) for label in [0,1]}\n",
    "\n",
    "# Apply RandomUnderSampler with the strategy,\n",
    "# majority and minority classes are equal, and their number is set to 50%\n",
    "rus = RandomUnderSampler(sampling_strategy=sampling_strategy, random_state=42)\n",
    "X_resampled, y_resampled = rus.fit_resample(X, y)\n",
    "\n",
    "# Count number of dos and non-dos attacks\n",
    "stroke_num = (y_resampled == 1).sum()\n",
    "nonstroke_num = (y_resampled == 0).sum()\n",
    "\n",
    "# Display the resampled dataframe\n",
    "print(\"Rows after resampled data:\", len(X_resampled))\n",
    "print(f\"Number of stroke: {stroke_num}, number of non-stroke attacks: {nonstroke_num}\")"
   ]
  },
  {
   "cell_type": "markdown",
   "metadata": {},
   "source": [
    "## Train-Test Split"
   ]
  },
  {
   "cell_type": "code",
   "execution_count": 6,
   "metadata": {},
   "outputs": [],
   "source": [
    "X_train, X_test, y_train, y_test = train_test_split(\n",
    "    X_resampled, y_resampled, test_size=0.2, random_state=42)"
   ]
  },
  {
   "cell_type": "markdown",
   "metadata": {},
   "source": [
    "## Running Native Bayes with Different Kernels"
   ]
  },
  {
   "cell_type": "code",
   "execution_count": 7,
   "metadata": {},
   "outputs": [
    {
     "name": "stdout",
     "output_type": "stream",
     "text": [
      "Accuracy: 0.6190476190476191\n",
      "Confusion Matrix: [[12 30]\n",
      " [ 2 40]]\n",
      "Classification Report:\n",
      "               precision    recall  f1-score   support\n",
      "\n",
      "           0       0.86      0.29      0.43        42\n",
      "           1       0.57      0.95      0.71        42\n",
      "\n",
      "    accuracy                           0.62        84\n",
      "   macro avg       0.71      0.62      0.57        84\n",
      "weighted avg       0.71      0.62      0.57        84\n",
      "\n",
      "Average Precision: 0.6605634547120212\n"
     ]
    }
   ],
   "source": [
    "# Initialize the Gaussian Naive Bayes classifier\n",
    "nb_classifier = GaussianNB()\n",
    "\n",
    "# Fit the model to the training data\n",
    "nb_classifier.fit(X_train, y_train)\n",
    "\n",
    "# Make predictions on the test set\n",
    "y_pred = nb_classifier.predict(X_test)\n",
    "\n",
    "# Predict probabilities for calculating Average Precision\n",
    "y_pred_proba = nb_classifier.predict_proba(X_test)\n",
    "\n",
    "# Evaluate the model\n",
    "accuracy = accuracy_score(y_test, y_pred)\n",
    "report = classification_report(y_test, y_pred)\n",
    "ap = average_precision_score(y_test, y_pred_proba[:, 1])\n",
    "\n",
    "print(\"Accuracy:\", accuracy)\n",
    "print(\"Confusion Matrix:\",confusion_matrix(y_test, y_pred))\n",
    "print(\"Classification Report:\\n\", report)\n",
    "print(\"Average Precision:\", ap)"
   ]
  }
 ],
 "metadata": {
  "kernelspec": {
   "display_name": "base",
   "language": "python",
   "name": "python3"
  },
  "language_info": {
   "codemirror_mode": {
    "name": "ipython",
    "version": 3
   },
   "file_extension": ".py",
   "mimetype": "text/x-python",
   "name": "python",
   "nbconvert_exporter": "python",
   "pygments_lexer": "ipython3",
   "version": "3.9.16"
  }
 },
 "nbformat": 4,
 "nbformat_minor": 2
}
